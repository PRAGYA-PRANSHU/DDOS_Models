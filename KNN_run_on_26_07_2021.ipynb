{
  "nbformat": 4,
  "nbformat_minor": 0,
  "metadata": {
    "colab": {
      "name": "KNN-run-on-26/07/2021.ipynb",
      "provenance": [],
      "include_colab_link": true
    },
    "kernelspec": {
      "name": "python3",
      "display_name": "Python 3"
    },
    "language_info": {
      "name": "python"
    },
    "accelerator": "TPU"
  },
  "cells": [
    {
      "cell_type": "markdown",
      "metadata": {
        "id": "view-in-github",
        "colab_type": "text"
      },
      "source": [
        "<a href=\"https://colab.research.google.com/github/PRAGYA-PRANSHU/MyFirstProject/blob/main/KNN_run_on_26_07_2021.ipynb\" target=\"_parent\"><img src=\"https://colab.research.google.com/assets/colab-badge.svg\" alt=\"Open In Colab\"/></a>"
      ]
    },
    {
      "cell_type": "code",
      "metadata": {
        "id": "3CPPohe2k6AZ"
      },
      "source": [
        "import numpy as np # linear algebra\n",
        "import pandas as pd # data processing, CSV file I/O (e.g. pd.read_csv)\n",
        "from tqdm import tqdm\n",
        "from IPython.display import display\n",
        "import gc\n",
        "import seaborn as sns\n",
        "import matplotlib.pyplot as plt\n",
        "from sklearn.decomposition import PCA\n",
        "from sklearn.preprocessing import LabelEncoder\n",
        "from sklearn.preprocessing import OrdinalEncoder\n",
        "pd.set_option('display.max_columns', None)\n",
        "pd.set_option('display.max_rows', None)"
      ],
      "execution_count": 10,
      "outputs": []
    },
    {
      "cell_type": "code",
      "metadata": {
        "id": "zc-dHtQelDWy"
      },
      "source": [
        "dataset = pd.read_csv('/content/DrDoS_LDAP_0.csv')\n",
        "#Currently I will be dealling with numerical columns only.\n",
        "colType = ['int64','float64']\n",
        "#Select the columns which are either int64 or float64.\n",
        "numCols=list(dataset.select_dtypes(include=colType).columns)\n",
        "#Assigning numerical columns from df to data variable. We can use the same variable as well.\n",
        "data=dataset[numCols]"
      ],
      "execution_count": 11,
      "outputs": []
    },
    {
      "cell_type": "code",
      "metadata": {
        "id": "H14tXiqJlFq4"
      },
      "source": [
        "X = dataset.iloc[:, :-1].values\n",
        "y = dataset.iloc[:, -1].values"
      ],
      "execution_count": 12,
      "outputs": []
    },
    {
      "cell_type": "code",
      "metadata": {
        "id": "HsUgu5MClHIl"
      },
      "source": [
        "from sklearn.impute import SimpleImputer\n",
        "imputer = SimpleImputer(missing_values=np.nan, strategy='mean')\n",
        "imputer.fit(X[:, 0:78])\n",
        "X[:, 0:78] = imputer.transform(X[:, 0:78])"
      ],
      "execution_count": 13,
      "outputs": []
    },
    {
      "cell_type": "code",
      "metadata": {
        "id": "sMNIeoY5lIjH"
      },
      "source": [
        "from sklearn.preprocessing import LabelEncoder\n",
        "le = LabelEncoder()\n",
        "y = le.fit_transform(y)"
      ],
      "execution_count": 14,
      "outputs": []
    },
    {
      "cell_type": "code",
      "metadata": {
        "id": "-NBSuj_0mjrt"
      },
      "source": [
        "from sklearn.model_selection import train_test_split\n",
        "X_train, X_test, y_train, y_test = train_test_split(X, y, train_size = 80, random_state = 0)"
      ],
      "execution_count": 15,
      "outputs": []
    },
    {
      "cell_type": "code",
      "metadata": {
        "colab": {
          "base_uri": "https://localhost:8080/"
        },
        "id": "sAk4gzzZlIqt",
        "outputId": "ad7788e4-fb15-4ea8-aafc-c5c8623932d8"
      },
      "source": [
        "from sklearn.neighbors import KNeighborsClassifier\n",
        "import sklearn.metrics as metrics\n",
        "# try K=1 through K=25 and record testing accuracy\n",
        "k_range = range(1, 50)\n",
        "\n",
        "# We can create Python dictionary using [] or dict()\n",
        "scores = []\n",
        "\n",
        "# We use a loop through the range 1 to 26\n",
        "# We append the scores in the dictionary\n",
        "for k in k_range:\n",
        "    knn = KNeighborsClassifier(n_neighbors=k)\n",
        "    knn.fit(X_train, y_train)\n",
        "    y_pred = knn.predict(X_test)\n",
        "    scores.append(metrics.accuracy_score(y_test, y_pred))\n",
        "\n",
        "print(scores)"
      ],
      "execution_count": 16,
      "outputs": [
        {
          "output_type": "stream",
          "text": [
            "[0.9923364485981309, 0.9887850467289719, 0.9845794392523365, 0.9318691588785046, 0.9286915887850468, 0.9286915887850468, 0.9285981308411215, 0.9289719626168225, 0.9290654205607477, 0.925607476635514, 0.9766355140186916, 0.9239252336448598, 0.9239252336448598, 0.9230841121495327, 0.927570093457944, 0.927570093457944, 0.927570093457944, 0.927570093457944, 0.927570093457944, 0.927570093457944, 0.927570093457944, 0.927570093457944, 0.927570093457944, 0.927570093457944, 0.927570093457944, 0.927570093457944, 0.927570093457944, 0.927570093457944, 0.927570093457944, 0.927570093457944, 0.927570093457944, 0.927570093457944, 0.927570093457944, 0.927570093457944, 0.927570093457944, 0.927570093457944, 0.927570093457944, 0.927570093457944, 0.927570093457944, 0.927570093457944, 0.927570093457944, 0.927570093457944, 0.927570093457944, 0.927570093457944, 0.927570093457944, 0.927570093457944, 0.927570093457944, 0.927570093457944, 0.927570093457944]\n"
          ],
          "name": "stdout"
        }
      ]
    },
    {
      "cell_type": "code",
      "metadata": {
        "colab": {
          "base_uri": "https://localhost:8080/",
          "height": 298
        },
        "id": "4UWdBZ5wtKBJ",
        "outputId": "a4f7ccdd-3783-4edb-de78-5eb9af4ee1d6"
      },
      "source": [
        "\n",
        "\n",
        "# import Matplotlib (scientific plotting library)\n",
        "import matplotlib.pyplot as plt\n",
        "\n",
        "# allow plots to appear within the notebook\n",
        "%matplotlib inline\n",
        "\n",
        "# plot the relationship between K and testing accuracy\n",
        "# plt.plot(x_axis, y_axis)\n",
        "plt.plot(k_range, scores)\n",
        "plt.xlabel('Value of K for KNN')\n",
        "plt.ylabel('Testing Accuracy')\n",
        "\n"
      ],
      "execution_count": 17,
      "outputs": [
        {
          "output_type": "execute_result",
          "data": {
            "text/plain": [
              "Text(0, 0.5, 'Testing Accuracy')"
            ]
          },
          "metadata": {
            "tags": []
          },
          "execution_count": 17
        },
        {
          "output_type": "display_data",
          "data": {
            "image/png": "[encoded data removed]",
            "text/plain": [
              "<Figure size 432x288 with 1 Axes>"
            ]
          },
          "metadata": {
            "tags": [],
            "needs_background": "light"
          }
        }
      ]
    }
  ]
}